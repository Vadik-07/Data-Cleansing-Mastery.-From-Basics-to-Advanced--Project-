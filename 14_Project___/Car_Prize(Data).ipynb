{
 "cells": [
  {
   "cell_type": "code",
   "execution_count": 4,
   "metadata": {},
   "outputs": [],
   "source": [
    "import pandas as pd\n",
    "import matplotlib.pyplot as plt\n",
    "import seaborn as sns"
   ]
  },
  {
   "cell_type": "code",
   "execution_count": 5,
   "metadata": {},
   "outputs": [
    {
     "data": {
      "text/html": [
       "<div>\n",
       "<style scoped>\n",
       "    .dataframe tbody tr th:only-of-type {\n",
       "        vertical-align: middle;\n",
       "    }\n",
       "\n",
       "    .dataframe tbody tr th {\n",
       "        vertical-align: top;\n",
       "    }\n",
       "\n",
       "    .dataframe thead th {\n",
       "        text-align: right;\n",
       "    }\n",
       "</style>\n",
       "<table border=\"1\" class=\"dataframe\">\n",
       "  <thead>\n",
       "    <tr style=\"text-align: right;\">\n",
       "      <th></th>\n",
       "      <th>car_name</th>\n",
       "      <th>car_prices_in_rupee</th>\n",
       "      <th>kms_driven</th>\n",
       "      <th>fuel_type</th>\n",
       "      <th>transmission</th>\n",
       "      <th>manufacture</th>\n",
       "      <th>engine</th>\n",
       "      <th>Seats</th>\n",
       "    </tr>\n",
       "  </thead>\n",
       "  <tbody>\n",
       "    <tr>\n",
       "      <th>0</th>\n",
       "      <td>Jeep Compass 2.0 Longitude Option BSIV</td>\n",
       "      <td>10.03 Lakh</td>\n",
       "      <td>86,226 kms</td>\n",
       "      <td>Diesel</td>\n",
       "      <td>Manual</td>\n",
       "      <td>2017</td>\n",
       "      <td>1956 cc</td>\n",
       "      <td>5 Seats</td>\n",
       "    </tr>\n",
       "    <tr>\n",
       "      <th>1</th>\n",
       "      <td>Renault Duster RXZ Turbo CVT</td>\n",
       "      <td>12.83 Lakh</td>\n",
       "      <td>13,248 kms</td>\n",
       "      <td>Petrol</td>\n",
       "      <td>Automatic</td>\n",
       "      <td>2021</td>\n",
       "      <td>1330 cc</td>\n",
       "      <td>5 Seats</td>\n",
       "    </tr>\n",
       "    <tr>\n",
       "      <th>2</th>\n",
       "      <td>Toyota Camry 2.5 G</td>\n",
       "      <td>16.40 Lakh</td>\n",
       "      <td>60,343 kms</td>\n",
       "      <td>Petrol</td>\n",
       "      <td>Automatic</td>\n",
       "      <td>2016</td>\n",
       "      <td>2494 cc</td>\n",
       "      <td>5 Seats</td>\n",
       "    </tr>\n",
       "    <tr>\n",
       "      <th>3</th>\n",
       "      <td>Honda Jazz VX CVT</td>\n",
       "      <td>7.77 Lakh</td>\n",
       "      <td>26,696 kms</td>\n",
       "      <td>Petrol</td>\n",
       "      <td>Automatic</td>\n",
       "      <td>2018</td>\n",
       "      <td>1199 cc</td>\n",
       "      <td>5 Seats</td>\n",
       "    </tr>\n",
       "    <tr>\n",
       "      <th>4</th>\n",
       "      <td>Volkswagen Polo 1.2 MPI Highline</td>\n",
       "      <td>5.15 Lakh</td>\n",
       "      <td>69,414 kms</td>\n",
       "      <td>Petrol</td>\n",
       "      <td>Manual</td>\n",
       "      <td>2016</td>\n",
       "      <td>1199 cc</td>\n",
       "      <td>5 Seats</td>\n",
       "    </tr>\n",
       "  </tbody>\n",
       "</table>\n",
       "</div>"
      ],
      "text/plain": [
       "                                 car_name car_prices_in_rupee  kms_driven  \\\n",
       "0  Jeep Compass 2.0 Longitude Option BSIV          10.03 Lakh  86,226 kms   \n",
       "1            Renault Duster RXZ Turbo CVT          12.83 Lakh  13,248 kms   \n",
       "2                      Toyota Camry 2.5 G          16.40 Lakh  60,343 kms   \n",
       "3                       Honda Jazz VX CVT           7.77 Lakh  26,696 kms   \n",
       "4        Volkswagen Polo 1.2 MPI Highline           5.15 Lakh  69,414 kms   \n",
       "\n",
       "  fuel_type transmission  manufacture   engine    Seats  \n",
       "0    Diesel       Manual         2017  1956 cc  5 Seats  \n",
       "1    Petrol    Automatic         2021  1330 cc  5 Seats  \n",
       "2    Petrol    Automatic         2016  2494 cc  5 Seats  \n",
       "3    Petrol    Automatic         2018  1199 cc  5 Seats  \n",
       "4    Petrol       Manual         2016  1199 cc  5 Seats  "
      ]
     },
     "execution_count": 5,
     "metadata": {},
     "output_type": "execute_result"
    }
   ],
   "source": [
    "dataset = pd.read_csv(r\"D:\\Codebase\\Python\\Data Cleaning\\Data Cleansing Mastery. From Basics to Advanced [Project]\\14_Project___\\car_price.csv\")\n",
    "dataset.head()"
   ]
  },
  {
   "cell_type": "code",
   "execution_count": 6,
   "metadata": {},
   "outputs": [
    {
     "name": "stdout",
     "output_type": "stream",
     "text": [
      "<class 'pandas.core.frame.DataFrame'>\n",
      "RangeIndex: 5512 entries, 0 to 5511\n",
      "Data columns (total 8 columns):\n",
      " #   Column               Non-Null Count  Dtype \n",
      "---  ------               --------------  ----- \n",
      " 0   car_name             5512 non-null   object\n",
      " 1   car_prices_in_rupee  5505 non-null   object\n",
      " 2   kms_driven           5507 non-null   object\n",
      " 3   fuel_type            5509 non-null   object\n",
      " 4   transmission         5508 non-null   object\n",
      " 5   manufacture          5512 non-null   int64 \n",
      " 6   engine               5504 non-null   object\n",
      " 7   Seats                5507 non-null   object\n",
      "dtypes: int64(1), object(7)\n",
      "memory usage: 344.6+ KB\n"
     ]
    }
   ],
   "source": [
    "dataset.info()"
   ]
  },
  {
   "cell_type": "code",
   "execution_count": 7,
   "metadata": {},
   "outputs": [
    {
     "data": {
      "text/plain": [
       "(5512, 8)"
      ]
     },
     "execution_count": 7,
     "metadata": {},
     "output_type": "execute_result"
    }
   ],
   "source": [
    "dataset.shape"
   ]
  },
  {
   "cell_type": "code",
   "execution_count": 8,
   "metadata": {},
   "outputs": [
    {
     "data": {
      "text/plain": [
       "car_name               0\n",
       "car_prices_in_rupee    7\n",
       "kms_driven             5\n",
       "fuel_type              3\n",
       "transmission           4\n",
       "manufacture            0\n",
       "engine                 8\n",
       "Seats                  5\n",
       "dtype: int64"
      ]
     },
     "execution_count": 8,
     "metadata": {},
     "output_type": "execute_result"
    }
   ],
   "source": [
    "dataset.isnull().sum()"
   ]
  },
  {
   "cell_type": "code",
   "execution_count": 9,
   "metadata": {},
   "outputs": [
    {
     "data": {
      "text/plain": [
       "car_name               0.000000\n",
       "car_prices_in_rupee    0.126996\n",
       "kms_driven             0.090711\n",
       "fuel_type              0.054427\n",
       "transmission           0.072569\n",
       "manufacture            0.000000\n",
       "engine                 0.145138\n",
       "Seats                  0.090711\n",
       "dtype: float64"
      ]
     },
     "execution_count": 9,
     "metadata": {},
     "output_type": "execute_result"
    }
   ],
   "source": [
    "(dataset.isnull().sum()/dataset.shape[0])*100"
   ]
  },
  {
   "cell_type": "code",
   "execution_count": 10,
   "metadata": {},
   "outputs": [],
   "source": [
    "dataset.dropna(inplace=True)"
   ]
  },
  {
   "cell_type": "code",
   "execution_count": 11,
   "metadata": {},
   "outputs": [
    {
     "data": {
      "text/plain": [
       "car_name               0\n",
       "car_prices_in_rupee    0\n",
       "kms_driven             0\n",
       "fuel_type              0\n",
       "transmission           0\n",
       "manufacture            0\n",
       "engine                 0\n",
       "Seats                  0\n",
       "dtype: int64"
      ]
     },
     "execution_count": 11,
     "metadata": {},
     "output_type": "execute_result"
    }
   ],
   "source": [
    "dataset.isnull().sum()"
   ]
  },
  {
   "cell_type": "code",
   "execution_count": null,
   "metadata": {},
   "outputs": [],
   "source": []
  },
  {
   "cell_type": "code",
   "execution_count": 12,
   "metadata": {},
   "outputs": [],
   "source": [
    "########## Car Name ############"
   ]
  },
  {
   "cell_type": "code",
   "execution_count": 13,
   "metadata": {},
   "outputs": [],
   "source": [
    "dataset['car_name']\n",
    "x = dataset['car_name']"
   ]
  },
  {
   "cell_type": "code",
   "execution_count": 14,
   "metadata": {},
   "outputs": [],
   "source": [
    "def company_name(x):\n",
    "    return x[:x.index(\" \")]"
   ]
  },
  {
   "cell_type": "code",
   "execution_count": 15,
   "metadata": {},
   "outputs": [],
   "source": [
    "def car_modal(x):\n",
    "    return x[x.index(\" \")+1:]"
   ]
  },
  {
   "cell_type": "code",
   "execution_count": 16,
   "metadata": {},
   "outputs": [],
   "source": [
    "dataset.insert(0, 'company_name', dataset['car_name'].apply(company_name))\n",
    "dataset.insert(1, 'car_modal', dataset['car_name'].apply(car_modal))"
   ]
  },
  {
   "cell_type": "code",
   "execution_count": 17,
   "metadata": {},
   "outputs": [
    {
     "data": {
      "text/html": [
       "<div>\n",
       "<style scoped>\n",
       "    .dataframe tbody tr th:only-of-type {\n",
       "        vertical-align: middle;\n",
       "    }\n",
       "\n",
       "    .dataframe tbody tr th {\n",
       "        vertical-align: top;\n",
       "    }\n",
       "\n",
       "    .dataframe thead th {\n",
       "        text-align: right;\n",
       "    }\n",
       "</style>\n",
       "<table border=\"1\" class=\"dataframe\">\n",
       "  <thead>\n",
       "    <tr style=\"text-align: right;\">\n",
       "      <th></th>\n",
       "      <th>company_name</th>\n",
       "      <th>car_modal</th>\n",
       "      <th>car_name</th>\n",
       "      <th>car_prices_in_rupee</th>\n",
       "      <th>kms_driven</th>\n",
       "      <th>fuel_type</th>\n",
       "      <th>transmission</th>\n",
       "      <th>manufacture</th>\n",
       "      <th>engine</th>\n",
       "      <th>Seats</th>\n",
       "    </tr>\n",
       "  </thead>\n",
       "  <tbody>\n",
       "    <tr>\n",
       "      <th>0</th>\n",
       "      <td>Jeep</td>\n",
       "      <td>Compass 2.0 Longitude Option BSIV</td>\n",
       "      <td>Jeep Compass 2.0 Longitude Option BSIV</td>\n",
       "      <td>10.03 Lakh</td>\n",
       "      <td>86,226 kms</td>\n",
       "      <td>Diesel</td>\n",
       "      <td>Manual</td>\n",
       "      <td>2017</td>\n",
       "      <td>1956 cc</td>\n",
       "      <td>5 Seats</td>\n",
       "    </tr>\n",
       "    <tr>\n",
       "      <th>1</th>\n",
       "      <td>Renault</td>\n",
       "      <td>Duster RXZ Turbo CVT</td>\n",
       "      <td>Renault Duster RXZ Turbo CVT</td>\n",
       "      <td>12.83 Lakh</td>\n",
       "      <td>13,248 kms</td>\n",
       "      <td>Petrol</td>\n",
       "      <td>Automatic</td>\n",
       "      <td>2021</td>\n",
       "      <td>1330 cc</td>\n",
       "      <td>5 Seats</td>\n",
       "    </tr>\n",
       "    <tr>\n",
       "      <th>2</th>\n",
       "      <td>Toyota</td>\n",
       "      <td>Camry 2.5 G</td>\n",
       "      <td>Toyota Camry 2.5 G</td>\n",
       "      <td>16.40 Lakh</td>\n",
       "      <td>60,343 kms</td>\n",
       "      <td>Petrol</td>\n",
       "      <td>Automatic</td>\n",
       "      <td>2016</td>\n",
       "      <td>2494 cc</td>\n",
       "      <td>5 Seats</td>\n",
       "    </tr>\n",
       "  </tbody>\n",
       "</table>\n",
       "</div>"
      ],
      "text/plain": [
       "  company_name                          car_modal  \\\n",
       "0         Jeep  Compass 2.0 Longitude Option BSIV   \n",
       "1      Renault               Duster RXZ Turbo CVT   \n",
       "2       Toyota                        Camry 2.5 G   \n",
       "\n",
       "                                 car_name car_prices_in_rupee  kms_driven  \\\n",
       "0  Jeep Compass 2.0 Longitude Option BSIV          10.03 Lakh  86,226 kms   \n",
       "1            Renault Duster RXZ Turbo CVT          12.83 Lakh  13,248 kms   \n",
       "2                      Toyota Camry 2.5 G          16.40 Lakh  60,343 kms   \n",
       "\n",
       "  fuel_type transmission  manufacture   engine    Seats  \n",
       "0    Diesel       Manual         2017  1956 cc  5 Seats  \n",
       "1    Petrol    Automatic         2021  1330 cc  5 Seats  \n",
       "2    Petrol    Automatic         2016  2494 cc  5 Seats  "
      ]
     },
     "execution_count": 17,
     "metadata": {},
     "output_type": "execute_result"
    }
   ],
   "source": [
    "dataset.head(3)"
   ]
  },
  {
   "cell_type": "code",
   "execution_count": null,
   "metadata": {},
   "outputs": [],
   "source": []
  },
  {
   "cell_type": "code",
   "execution_count": 18,
   "metadata": {},
   "outputs": [],
   "source": [
    "#######  Car Price  #######"
   ]
  },
  {
   "cell_type": "code",
   "execution_count": 19,
   "metadata": {},
   "outputs": [
    {
     "data": {
      "text/plain": [
       "0       10.03 Lakh\n",
       "1       12.83 Lakh\n",
       "2       16.40 Lakh\n",
       "3        7.77 Lakh\n",
       "4        5.15 Lakh\n",
       "           ...    \n",
       "5507    28.90 Lakh\n",
       "5508    64.90 Lakh\n",
       "5509    13.75 Lakh\n",
       "5510    29.90 Lakh\n",
       "5511    31.90 Lakh\n",
       "Name: car_prices_in_rupee, Length: 5482, dtype: object"
      ]
     },
     "execution_count": 19,
     "metadata": {},
     "output_type": "execute_result"
    }
   ],
   "source": [
    "dataset['car_prices_in_rupee']"
   ]
  },
  {
   "cell_type": "code",
   "execution_count": 20,
   "metadata": {},
   "outputs": [],
   "source": [
    "dataset['car_prices_in_rupee'] = dataset['car_prices_in_rupee'].str.replace(\",\",\"\")"
   ]
  },
  {
   "cell_type": "code",
   "execution_count": 21,
   "metadata": {},
   "outputs": [],
   "source": [
    "def rupp_changer(xx):\n",
    "    p = xx.split(\" \")\n",
    "    try :\n",
    "        if(p[1] == \"Lakh\"):\n",
    "            return str(round(float(p[0])*100000,1))\n",
    "        elif(p[1] == \"Crore\"):\n",
    "            return str(round(float(p[0])*10000000,1))\n",
    "    except :\n",
    "            return x"
   ]
  },
  {
   "cell_type": "code",
   "execution_count": 22,
   "metadata": {},
   "outputs": [],
   "source": [
    "dataset['car_prices_in_rupee'] = dataset['car_prices_in_rupee'].apply(rupp_changer)"
   ]
  },
  {
   "cell_type": "code",
   "execution_count": 23,
   "metadata": {},
   "outputs": [
    {
     "name": "stderr",
     "output_type": "stream",
     "text": [
      "C:\\Users\\vadik\\AppData\\Local\\Temp\\ipykernel_18564\\4136576279.py:10: FutureWarning: A value is trying to be set on a copy of a DataFrame or Series through chained assignment using an inplace method.\n",
      "The behavior will change in pandas 3.0. This inplace method will never work because the intermediate object on which we are setting values always behaves as a copy.\n",
      "\n",
      "For example, when doing 'df[col].method(value, inplace=True)', try using 'df.method({col: value}, inplace=True)' or df[col] = df[col].method(value) instead, to perform the operation inplace on the original object.\n",
      "\n",
      "\n",
      "  dataset['car_prices_in_rupee'].fillna(0, inplace=True)  # Replace NaN with 0\n"
     ]
    }
   ],
   "source": [
    "# Remove leading/trailing whitespace and replace any unexpected characters\n",
    "dataset['car_prices_in_rupee'] = dataset['car_prices_in_rupee'].str.strip()\n",
    "dataset['car_prices_in_rupee'] = dataset['car_prices_in_rupee'].str.replace(r'[^0-9.]', '', regex=True)\n",
    "\n",
    "dataset['car_prices_in_rupee'] = pd.to_numeric(dataset['car_prices_in_rupee'], errors='coerce')\n",
    "\n",
    "# Handle NaNs after conversion\n",
    "dataset.dropna(subset=['car_prices_in_rupee'], inplace=True)  # Remove rows with NaN\n",
    "# Or\n",
    "dataset['car_prices_in_rupee'].fillna(0, inplace=True)  # Replace NaN with 0"
   ]
  },
  {
   "cell_type": "code",
   "execution_count": 24,
   "metadata": {},
   "outputs": [],
   "source": [
    "dataset['car_prices_in_rupee'] = dataset['car_prices_in_rupee'].astype(\"float\")"
   ]
  },
  {
   "cell_type": "code",
   "execution_count": 25,
   "metadata": {},
   "outputs": [
    {
     "name": "stdout",
     "output_type": "stream",
     "text": [
      "<class 'pandas.core.frame.DataFrame'>\n",
      "Index: 5359 entries, 0 to 5511\n",
      "Data columns (total 10 columns):\n",
      " #   Column               Non-Null Count  Dtype  \n",
      "---  ------               --------------  -----  \n",
      " 0   company_name         5359 non-null   object \n",
      " 1   car_modal            5359 non-null   object \n",
      " 2   car_name             5359 non-null   object \n",
      " 3   car_prices_in_rupee  5359 non-null   float64\n",
      " 4   kms_driven           5359 non-null   object \n",
      " 5   fuel_type            5359 non-null   object \n",
      " 6   transmission         5359 non-null   object \n",
      " 7   manufacture          5359 non-null   int64  \n",
      " 8   engine               5359 non-null   object \n",
      " 9   Seats                5359 non-null   object \n",
      "dtypes: float64(1), int64(1), object(8)\n",
      "memory usage: 460.5+ KB\n"
     ]
    }
   ],
   "source": [
    "dataset.info()"
   ]
  },
  {
   "cell_type": "code",
   "execution_count": null,
   "metadata": {},
   "outputs": [],
   "source": []
  },
  {
   "cell_type": "code",
   "execution_count": 26,
   "metadata": {},
   "outputs": [],
   "source": [
    "########## Km Drive ###########"
   ]
  },
  {
   "cell_type": "code",
   "execution_count": 27,
   "metadata": {},
   "outputs": [
    {
     "data": {
      "text/plain": [
       "0       86,226 kms\n",
       "1       13,248 kms\n",
       "2       60,343 kms\n",
       "3       26,696 kms\n",
       "4       69,414 kms\n",
       "           ...    \n",
       "5507    45,000 kms\n",
       "5508    29,000 kms\n",
       "5509    90,000 kms\n",
       "5510    79,000 kms\n",
       "5511    42,000 kms\n",
       "Name: kms_driven, Length: 5359, dtype: object"
      ]
     },
     "execution_count": 27,
     "metadata": {},
     "output_type": "execute_result"
    }
   ],
   "source": [
    "dataset['kms_driven']"
   ]
  },
  {
   "cell_type": "code",
   "execution_count": 28,
   "metadata": {},
   "outputs": [],
   "source": [
    "def Kms_drivenn(x):\n",
    "    return float(x.split()[0].replace(\",\", \"\"))"
   ]
  },
  {
   "cell_type": "code",
   "execution_count": 29,
   "metadata": {},
   "outputs": [],
   "source": [
    "dataset['kms_driven'] = dataset['kms_driven'].apply(Kms_drivenn)"
   ]
  },
  {
   "cell_type": "code",
   "execution_count": 30,
   "metadata": {},
   "outputs": [
    {
     "data": {
      "text/plain": [
       "0    86226.0\n",
       "1    13248.0\n",
       "2    60343.0\n",
       "3    26696.0\n",
       "4    69414.0\n",
       "Name: kms_driven, dtype: float64"
      ]
     },
     "execution_count": 30,
     "metadata": {},
     "output_type": "execute_result"
    }
   ],
   "source": [
    "dataset.kms_driven.head()"
   ]
  },
  {
   "cell_type": "code",
   "execution_count": 31,
   "metadata": {},
   "outputs": [
    {
     "name": "stdout",
     "output_type": "stream",
     "text": [
      "<class 'pandas.core.frame.DataFrame'>\n",
      "Index: 5359 entries, 0 to 5511\n",
      "Data columns (total 10 columns):\n",
      " #   Column               Non-Null Count  Dtype  \n",
      "---  ------               --------------  -----  \n",
      " 0   company_name         5359 non-null   object \n",
      " 1   car_modal            5359 non-null   object \n",
      " 2   car_name             5359 non-null   object \n",
      " 3   car_prices_in_rupee  5359 non-null   float64\n",
      " 4   kms_driven           5359 non-null   float64\n",
      " 5   fuel_type            5359 non-null   object \n",
      " 6   transmission         5359 non-null   object \n",
      " 7   manufacture          5359 non-null   int64  \n",
      " 8   engine               5359 non-null   object \n",
      " 9   Seats                5359 non-null   object \n",
      "dtypes: float64(2), int64(1), object(7)\n",
      "memory usage: 460.5+ KB\n"
     ]
    }
   ],
   "source": [
    "dataset.info()"
   ]
  },
  {
   "cell_type": "code",
   "execution_count": 32,
   "metadata": {},
   "outputs": [
    {
     "data": {
      "text/html": [
       "<div>\n",
       "<style scoped>\n",
       "    .dataframe tbody tr th:only-of-type {\n",
       "        vertical-align: middle;\n",
       "    }\n",
       "\n",
       "    .dataframe tbody tr th {\n",
       "        vertical-align: top;\n",
       "    }\n",
       "\n",
       "    .dataframe thead th {\n",
       "        text-align: right;\n",
       "    }\n",
       "</style>\n",
       "<table border=\"1\" class=\"dataframe\">\n",
       "  <thead>\n",
       "    <tr style=\"text-align: right;\">\n",
       "      <th></th>\n",
       "      <th>company_name</th>\n",
       "      <th>car_modal</th>\n",
       "      <th>car_name</th>\n",
       "      <th>car_prices_in_rupee</th>\n",
       "      <th>kms_driven</th>\n",
       "      <th>fuel_type</th>\n",
       "      <th>transmission</th>\n",
       "      <th>manufacture</th>\n",
       "      <th>engine</th>\n",
       "      <th>Seats</th>\n",
       "    </tr>\n",
       "  </thead>\n",
       "  <tbody>\n",
       "    <tr>\n",
       "      <th>0</th>\n",
       "      <td>Jeep</td>\n",
       "      <td>Compass 2.0 Longitude Option BSIV</td>\n",
       "      <td>Jeep Compass 2.0 Longitude Option BSIV</td>\n",
       "      <td>1003000.0</td>\n",
       "      <td>86226.0</td>\n",
       "      <td>Diesel</td>\n",
       "      <td>Manual</td>\n",
       "      <td>2017</td>\n",
       "      <td>1956 cc</td>\n",
       "      <td>5 Seats</td>\n",
       "    </tr>\n",
       "    <tr>\n",
       "      <th>1</th>\n",
       "      <td>Renault</td>\n",
       "      <td>Duster RXZ Turbo CVT</td>\n",
       "      <td>Renault Duster RXZ Turbo CVT</td>\n",
       "      <td>1283000.0</td>\n",
       "      <td>13248.0</td>\n",
       "      <td>Petrol</td>\n",
       "      <td>Automatic</td>\n",
       "      <td>2021</td>\n",
       "      <td>1330 cc</td>\n",
       "      <td>5 Seats</td>\n",
       "    </tr>\n",
       "    <tr>\n",
       "      <th>2</th>\n",
       "      <td>Toyota</td>\n",
       "      <td>Camry 2.5 G</td>\n",
       "      <td>Toyota Camry 2.5 G</td>\n",
       "      <td>1640000.0</td>\n",
       "      <td>60343.0</td>\n",
       "      <td>Petrol</td>\n",
       "      <td>Automatic</td>\n",
       "      <td>2016</td>\n",
       "      <td>2494 cc</td>\n",
       "      <td>5 Seats</td>\n",
       "    </tr>\n",
       "    <tr>\n",
       "      <th>3</th>\n",
       "      <td>Honda</td>\n",
       "      <td>Jazz VX CVT</td>\n",
       "      <td>Honda Jazz VX CVT</td>\n",
       "      <td>777000.0</td>\n",
       "      <td>26696.0</td>\n",
       "      <td>Petrol</td>\n",
       "      <td>Automatic</td>\n",
       "      <td>2018</td>\n",
       "      <td>1199 cc</td>\n",
       "      <td>5 Seats</td>\n",
       "    </tr>\n",
       "    <tr>\n",
       "      <th>4</th>\n",
       "      <td>Volkswagen</td>\n",
       "      <td>Polo 1.2 MPI Highline</td>\n",
       "      <td>Volkswagen Polo 1.2 MPI Highline</td>\n",
       "      <td>515000.0</td>\n",
       "      <td>69414.0</td>\n",
       "      <td>Petrol</td>\n",
       "      <td>Manual</td>\n",
       "      <td>2016</td>\n",
       "      <td>1199 cc</td>\n",
       "      <td>5 Seats</td>\n",
       "    </tr>\n",
       "  </tbody>\n",
       "</table>\n",
       "</div>"
      ],
      "text/plain": [
       "  company_name                          car_modal  \\\n",
       "0         Jeep  Compass 2.0 Longitude Option BSIV   \n",
       "1      Renault               Duster RXZ Turbo CVT   \n",
       "2       Toyota                        Camry 2.5 G   \n",
       "3        Honda                        Jazz VX CVT   \n",
       "4   Volkswagen              Polo 1.2 MPI Highline   \n",
       "\n",
       "                                 car_name  car_prices_in_rupee  kms_driven  \\\n",
       "0  Jeep Compass 2.0 Longitude Option BSIV            1003000.0     86226.0   \n",
       "1            Renault Duster RXZ Turbo CVT            1283000.0     13248.0   \n",
       "2                      Toyota Camry 2.5 G            1640000.0     60343.0   \n",
       "3                       Honda Jazz VX CVT             777000.0     26696.0   \n",
       "4        Volkswagen Polo 1.2 MPI Highline             515000.0     69414.0   \n",
       "\n",
       "  fuel_type transmission  manufacture   engine    Seats  \n",
       "0    Diesel       Manual         2017  1956 cc  5 Seats  \n",
       "1    Petrol    Automatic         2021  1330 cc  5 Seats  \n",
       "2    Petrol    Automatic         2016  2494 cc  5 Seats  \n",
       "3    Petrol    Automatic         2018  1199 cc  5 Seats  \n",
       "4    Petrol       Manual         2016  1199 cc  5 Seats  "
      ]
     },
     "execution_count": 32,
     "metadata": {},
     "output_type": "execute_result"
    }
   ],
   "source": [
    "dataset.head()"
   ]
  },
  {
   "cell_type": "code",
   "execution_count": null,
   "metadata": {},
   "outputs": [],
   "source": []
  },
  {
   "cell_type": "code",
   "execution_count": 33,
   "metadata": {},
   "outputs": [],
   "source": [
    "############  Engine  #############"
   ]
  },
  {
   "cell_type": "code",
   "execution_count": 34,
   "metadata": {},
   "outputs": [],
   "source": [
    "dataset['engine'][0].split()[0]\n",
    "# or\n",
    "dataset['engine'] = dataset['engine'].str.replace(\" cc\",\"\").astype(\"int32\")"
   ]
  },
  {
   "cell_type": "code",
   "execution_count": 35,
   "metadata": {},
   "outputs": [
    {
     "name": "stdout",
     "output_type": "stream",
     "text": [
      "<class 'pandas.core.frame.DataFrame'>\n",
      "Index: 5359 entries, 0 to 5511\n",
      "Data columns (total 10 columns):\n",
      " #   Column               Non-Null Count  Dtype  \n",
      "---  ------               --------------  -----  \n",
      " 0   company_name         5359 non-null   object \n",
      " 1   car_modal            5359 non-null   object \n",
      " 2   car_name             5359 non-null   object \n",
      " 3   car_prices_in_rupee  5359 non-null   float64\n",
      " 4   kms_driven           5359 non-null   float64\n",
      " 5   fuel_type            5359 non-null   object \n",
      " 6   transmission         5359 non-null   object \n",
      " 7   manufacture          5359 non-null   int64  \n",
      " 8   engine               5359 non-null   int32  \n",
      " 9   Seats                5359 non-null   object \n",
      "dtypes: float64(2), int32(1), int64(1), object(6)\n",
      "memory usage: 568.6+ KB\n"
     ]
    }
   ],
   "source": [
    "dataset.info()"
   ]
  },
  {
   "cell_type": "code",
   "execution_count": null,
   "metadata": {},
   "outputs": [],
   "source": []
  },
  {
   "cell_type": "code",
   "execution_count": 36,
   "metadata": {},
   "outputs": [],
   "source": [
    "###########  Seats  ###########"
   ]
  },
  {
   "cell_type": "code",
   "execution_count": 37,
   "metadata": {},
   "outputs": [],
   "source": [
    "dataset['Seats'] = dataset['Seats'].str.replace(\" Seats\",\"\").astype(\"int32\")"
   ]
  },
  {
   "cell_type": "code",
   "execution_count": 38,
   "metadata": {},
   "outputs": [
    {
     "data": {
      "text/html": [
       "<div>\n",
       "<style scoped>\n",
       "    .dataframe tbody tr th:only-of-type {\n",
       "        vertical-align: middle;\n",
       "    }\n",
       "\n",
       "    .dataframe tbody tr th {\n",
       "        vertical-align: top;\n",
       "    }\n",
       "\n",
       "    .dataframe thead th {\n",
       "        text-align: right;\n",
       "    }\n",
       "</style>\n",
       "<table border=\"1\" class=\"dataframe\">\n",
       "  <thead>\n",
       "    <tr style=\"text-align: right;\">\n",
       "      <th></th>\n",
       "      <th>company_name</th>\n",
       "      <th>car_modal</th>\n",
       "      <th>car_name</th>\n",
       "      <th>car_prices_in_rupee</th>\n",
       "      <th>kms_driven</th>\n",
       "      <th>fuel_type</th>\n",
       "      <th>transmission</th>\n",
       "      <th>manufacture</th>\n",
       "      <th>engine</th>\n",
       "      <th>Seats</th>\n",
       "    </tr>\n",
       "  </thead>\n",
       "  <tbody>\n",
       "    <tr>\n",
       "      <th>0</th>\n",
       "      <td>Jeep</td>\n",
       "      <td>Compass 2.0 Longitude Option BSIV</td>\n",
       "      <td>Jeep Compass 2.0 Longitude Option BSIV</td>\n",
       "      <td>1003000.0</td>\n",
       "      <td>86226.0</td>\n",
       "      <td>Diesel</td>\n",
       "      <td>Manual</td>\n",
       "      <td>2017</td>\n",
       "      <td>1956</td>\n",
       "      <td>5</td>\n",
       "    </tr>\n",
       "    <tr>\n",
       "      <th>1</th>\n",
       "      <td>Renault</td>\n",
       "      <td>Duster RXZ Turbo CVT</td>\n",
       "      <td>Renault Duster RXZ Turbo CVT</td>\n",
       "      <td>1283000.0</td>\n",
       "      <td>13248.0</td>\n",
       "      <td>Petrol</td>\n",
       "      <td>Automatic</td>\n",
       "      <td>2021</td>\n",
       "      <td>1330</td>\n",
       "      <td>5</td>\n",
       "    </tr>\n",
       "    <tr>\n",
       "      <th>2</th>\n",
       "      <td>Toyota</td>\n",
       "      <td>Camry 2.5 G</td>\n",
       "      <td>Toyota Camry 2.5 G</td>\n",
       "      <td>1640000.0</td>\n",
       "      <td>60343.0</td>\n",
       "      <td>Petrol</td>\n",
       "      <td>Automatic</td>\n",
       "      <td>2016</td>\n",
       "      <td>2494</td>\n",
       "      <td>5</td>\n",
       "    </tr>\n",
       "    <tr>\n",
       "      <th>3</th>\n",
       "      <td>Honda</td>\n",
       "      <td>Jazz VX CVT</td>\n",
       "      <td>Honda Jazz VX CVT</td>\n",
       "      <td>777000.0</td>\n",
       "      <td>26696.0</td>\n",
       "      <td>Petrol</td>\n",
       "      <td>Automatic</td>\n",
       "      <td>2018</td>\n",
       "      <td>1199</td>\n",
       "      <td>5</td>\n",
       "    </tr>\n",
       "    <tr>\n",
       "      <th>4</th>\n",
       "      <td>Volkswagen</td>\n",
       "      <td>Polo 1.2 MPI Highline</td>\n",
       "      <td>Volkswagen Polo 1.2 MPI Highline</td>\n",
       "      <td>515000.0</td>\n",
       "      <td>69414.0</td>\n",
       "      <td>Petrol</td>\n",
       "      <td>Manual</td>\n",
       "      <td>2016</td>\n",
       "      <td>1199</td>\n",
       "      <td>5</td>\n",
       "    </tr>\n",
       "  </tbody>\n",
       "</table>\n",
       "</div>"
      ],
      "text/plain": [
       "  company_name                          car_modal  \\\n",
       "0         Jeep  Compass 2.0 Longitude Option BSIV   \n",
       "1      Renault               Duster RXZ Turbo CVT   \n",
       "2       Toyota                        Camry 2.5 G   \n",
       "3        Honda                        Jazz VX CVT   \n",
       "4   Volkswagen              Polo 1.2 MPI Highline   \n",
       "\n",
       "                                 car_name  car_prices_in_rupee  kms_driven  \\\n",
       "0  Jeep Compass 2.0 Longitude Option BSIV            1003000.0     86226.0   \n",
       "1            Renault Duster RXZ Turbo CVT            1283000.0     13248.0   \n",
       "2                      Toyota Camry 2.5 G            1640000.0     60343.0   \n",
       "3                       Honda Jazz VX CVT             777000.0     26696.0   \n",
       "4        Volkswagen Polo 1.2 MPI Highline             515000.0     69414.0   \n",
       "\n",
       "  fuel_type transmission  manufacture  engine  Seats  \n",
       "0    Diesel       Manual         2017    1956      5  \n",
       "1    Petrol    Automatic         2021    1330      5  \n",
       "2    Petrol    Automatic         2016    2494      5  \n",
       "3    Petrol    Automatic         2018    1199      5  \n",
       "4    Petrol       Manual         2016    1199      5  "
      ]
     },
     "execution_count": 38,
     "metadata": {},
     "output_type": "execute_result"
    }
   ],
   "source": [
    "dataset.head()"
   ]
  },
  {
   "cell_type": "code",
   "execution_count": 39,
   "metadata": {},
   "outputs": [],
   "source": [
    "dataset.drop(columns=['car_name'], inplace=True)"
   ]
  },
  {
   "cell_type": "code",
   "execution_count": null,
   "metadata": {},
   "outputs": [],
   "source": []
  },
  {
   "cell_type": "code",
   "execution_count": 40,
   "metadata": {},
   "outputs": [],
   "source": [
    "########  Manufactoring Date ##########"
   ]
  },
  {
   "cell_type": "code",
   "execution_count": 41,
   "metadata": {},
   "outputs": [
    {
     "data": {
      "text/plain": [
       "0       2017\n",
       "1       2021\n",
       "2       2016\n",
       "3       2018\n",
       "4       2016\n",
       "        ... \n",
       "5507    2018\n",
       "5508    2015\n",
       "5509    2013\n",
       "5510    2015\n",
       "5511    2017\n",
       "Name: manufacture, Length: 5359, dtype: int64"
      ]
     },
     "execution_count": 41,
     "metadata": {},
     "output_type": "execute_result"
    }
   ],
   "source": [
    "dataset['manufacture']"
   ]
  },
  {
   "cell_type": "code",
   "execution_count": 42,
   "metadata": {},
   "outputs": [],
   "source": [
    "# the above Data Cleaning is enough for a Data Anaylist"
   ]
  },
  {
   "cell_type": "code",
   "execution_count": 43,
   "metadata": {},
   "outputs": [],
   "source": [
    "# but i think we are Cleaning this Data for Machine Learning "
   ]
  },
  {
   "cell_type": "code",
   "execution_count": 44,
   "metadata": {},
   "outputs": [],
   "source": [
    "from sklearn.preprocessing import LabelEncoder,StandardScaler"
   ]
  },
  {
   "cell_type": "code",
   "execution_count": 45,
   "metadata": {},
   "outputs": [
    {
     "data": {
      "text/html": [
       "<div>\n",
       "<style scoped>\n",
       "    .dataframe tbody tr th:only-of-type {\n",
       "        vertical-align: middle;\n",
       "    }\n",
       "\n",
       "    .dataframe tbody tr th {\n",
       "        vertical-align: top;\n",
       "    }\n",
       "\n",
       "    .dataframe thead th {\n",
       "        text-align: right;\n",
       "    }\n",
       "</style>\n",
       "<table border=\"1\" class=\"dataframe\">\n",
       "  <thead>\n",
       "    <tr style=\"text-align: right;\">\n",
       "      <th></th>\n",
       "      <th>company_name</th>\n",
       "      <th>car_modal</th>\n",
       "      <th>car_prices_in_rupee</th>\n",
       "      <th>kms_driven</th>\n",
       "      <th>fuel_type</th>\n",
       "      <th>transmission</th>\n",
       "      <th>manufacture</th>\n",
       "      <th>engine</th>\n",
       "      <th>Seats</th>\n",
       "    </tr>\n",
       "  </thead>\n",
       "  <tbody>\n",
       "    <tr>\n",
       "      <th>0</th>\n",
       "      <td>Jeep</td>\n",
       "      <td>Compass 2.0 Longitude Option BSIV</td>\n",
       "      <td>1003000.0</td>\n",
       "      <td>86226.0</td>\n",
       "      <td>Diesel</td>\n",
       "      <td>Manual</td>\n",
       "      <td>2017</td>\n",
       "      <td>1956</td>\n",
       "      <td>5</td>\n",
       "    </tr>\n",
       "    <tr>\n",
       "      <th>1</th>\n",
       "      <td>Renault</td>\n",
       "      <td>Duster RXZ Turbo CVT</td>\n",
       "      <td>1283000.0</td>\n",
       "      <td>13248.0</td>\n",
       "      <td>Petrol</td>\n",
       "      <td>Automatic</td>\n",
       "      <td>2021</td>\n",
       "      <td>1330</td>\n",
       "      <td>5</td>\n",
       "    </tr>\n",
       "    <tr>\n",
       "      <th>2</th>\n",
       "      <td>Toyota</td>\n",
       "      <td>Camry 2.5 G</td>\n",
       "      <td>1640000.0</td>\n",
       "      <td>60343.0</td>\n",
       "      <td>Petrol</td>\n",
       "      <td>Automatic</td>\n",
       "      <td>2016</td>\n",
       "      <td>2494</td>\n",
       "      <td>5</td>\n",
       "    </tr>\n",
       "    <tr>\n",
       "      <th>3</th>\n",
       "      <td>Honda</td>\n",
       "      <td>Jazz VX CVT</td>\n",
       "      <td>777000.0</td>\n",
       "      <td>26696.0</td>\n",
       "      <td>Petrol</td>\n",
       "      <td>Automatic</td>\n",
       "      <td>2018</td>\n",
       "      <td>1199</td>\n",
       "      <td>5</td>\n",
       "    </tr>\n",
       "    <tr>\n",
       "      <th>4</th>\n",
       "      <td>Volkswagen</td>\n",
       "      <td>Polo 1.2 MPI Highline</td>\n",
       "      <td>515000.0</td>\n",
       "      <td>69414.0</td>\n",
       "      <td>Petrol</td>\n",
       "      <td>Manual</td>\n",
       "      <td>2016</td>\n",
       "      <td>1199</td>\n",
       "      <td>5</td>\n",
       "    </tr>\n",
       "  </tbody>\n",
       "</table>\n",
       "</div>"
      ],
      "text/plain": [
       "  company_name                          car_modal  car_prices_in_rupee  \\\n",
       "0         Jeep  Compass 2.0 Longitude Option BSIV            1003000.0   \n",
       "1      Renault               Duster RXZ Turbo CVT            1283000.0   \n",
       "2       Toyota                        Camry 2.5 G            1640000.0   \n",
       "3        Honda                        Jazz VX CVT             777000.0   \n",
       "4   Volkswagen              Polo 1.2 MPI Highline             515000.0   \n",
       "\n",
       "   kms_driven fuel_type transmission  manufacture  engine  Seats  \n",
       "0     86226.0    Diesel       Manual         2017    1956      5  \n",
       "1     13248.0    Petrol    Automatic         2021    1330      5  \n",
       "2     60343.0    Petrol    Automatic         2016    2494      5  \n",
       "3     26696.0    Petrol    Automatic         2018    1199      5  \n",
       "4     69414.0    Petrol       Manual         2016    1199      5  "
      ]
     },
     "execution_count": 45,
     "metadata": {},
     "output_type": "execute_result"
    }
   ],
   "source": [
    "dataset.head()"
   ]
  },
  {
   "cell_type": "code",
   "execution_count": null,
   "metadata": {},
   "outputs": [],
   "source": []
  },
  {
   "cell_type": "code",
   "execution_count": 46,
   "metadata": {},
   "outputs": [],
   "source": [
    "##########  Car Modal  ##########"
   ]
  },
  {
   "cell_type": "code",
   "execution_count": 47,
   "metadata": {},
   "outputs": [],
   "source": [
    "car_modal_en = LabelEncoder()\n",
    "dataset['car_modal'] = car_modal_en.fit_transform(dataset['car_modal'])"
   ]
  },
  {
   "cell_type": "code",
   "execution_count": 48,
   "metadata": {},
   "outputs": [
    {
     "data": {
      "text/html": [
       "<div>\n",
       "<style scoped>\n",
       "    .dataframe tbody tr th:only-of-type {\n",
       "        vertical-align: middle;\n",
       "    }\n",
       "\n",
       "    .dataframe tbody tr th {\n",
       "        vertical-align: top;\n",
       "    }\n",
       "\n",
       "    .dataframe thead th {\n",
       "        text-align: right;\n",
       "    }\n",
       "</style>\n",
       "<table border=\"1\" class=\"dataframe\">\n",
       "  <thead>\n",
       "    <tr style=\"text-align: right;\">\n",
       "      <th></th>\n",
       "      <th>company_name</th>\n",
       "      <th>car_modal</th>\n",
       "      <th>car_prices_in_rupee</th>\n",
       "      <th>kms_driven</th>\n",
       "      <th>fuel_type</th>\n",
       "      <th>transmission</th>\n",
       "      <th>manufacture</th>\n",
       "      <th>engine</th>\n",
       "      <th>Seats</th>\n",
       "    </tr>\n",
       "  </thead>\n",
       "  <tbody>\n",
       "    <tr>\n",
       "      <th>0</th>\n",
       "      <td>Jeep</td>\n",
       "      <td>413</td>\n",
       "      <td>1003000.0</td>\n",
       "      <td>86226.0</td>\n",
       "      <td>Diesel</td>\n",
       "      <td>Manual</td>\n",
       "      <td>2017</td>\n",
       "      <td>1956</td>\n",
       "      <td>5</td>\n",
       "    </tr>\n",
       "    <tr>\n",
       "      <th>1</th>\n",
       "      <td>Renault</td>\n",
       "      <td>496</td>\n",
       "      <td>1283000.0</td>\n",
       "      <td>13248.0</td>\n",
       "      <td>Petrol</td>\n",
       "      <td>Automatic</td>\n",
       "      <td>2021</td>\n",
       "      <td>1330</td>\n",
       "      <td>5</td>\n",
       "    </tr>\n",
       "    <tr>\n",
       "      <th>2</th>\n",
       "      <td>Toyota</td>\n",
       "      <td>278</td>\n",
       "      <td>1640000.0</td>\n",
       "      <td>60343.0</td>\n",
       "      <td>Petrol</td>\n",
       "      <td>Automatic</td>\n",
       "      <td>2016</td>\n",
       "      <td>2494</td>\n",
       "      <td>5</td>\n",
       "    </tr>\n",
       "    <tr>\n",
       "      <th>3</th>\n",
       "      <td>Honda</td>\n",
       "      <td>889</td>\n",
       "      <td>777000.0</td>\n",
       "      <td>26696.0</td>\n",
       "      <td>Petrol</td>\n",
       "      <td>Automatic</td>\n",
       "      <td>2018</td>\n",
       "      <td>1199</td>\n",
       "      <td>5</td>\n",
       "    </tr>\n",
       "    <tr>\n",
       "      <th>4</th>\n",
       "      <td>Volkswagen</td>\n",
       "      <td>1064</td>\n",
       "      <td>515000.0</td>\n",
       "      <td>69414.0</td>\n",
       "      <td>Petrol</td>\n",
       "      <td>Manual</td>\n",
       "      <td>2016</td>\n",
       "      <td>1199</td>\n",
       "      <td>5</td>\n",
       "    </tr>\n",
       "  </tbody>\n",
       "</table>\n",
       "</div>"
      ],
      "text/plain": [
       "  company_name  car_modal  car_prices_in_rupee  kms_driven fuel_type  \\\n",
       "0         Jeep        413            1003000.0     86226.0    Diesel   \n",
       "1      Renault        496            1283000.0     13248.0    Petrol   \n",
       "2       Toyota        278            1640000.0     60343.0    Petrol   \n",
       "3        Honda        889             777000.0     26696.0    Petrol   \n",
       "4   Volkswagen       1064             515000.0     69414.0    Petrol   \n",
       "\n",
       "  transmission  manufacture  engine  Seats  \n",
       "0       Manual         2017    1956      5  \n",
       "1    Automatic         2021    1330      5  \n",
       "2    Automatic         2016    2494      5  \n",
       "3    Automatic         2018    1199      5  \n",
       "4       Manual         2016    1199      5  "
      ]
     },
     "execution_count": 48,
     "metadata": {},
     "output_type": "execute_result"
    }
   ],
   "source": [
    "dataset.head()"
   ]
  },
  {
   "cell_type": "code",
   "execution_count": null,
   "metadata": {},
   "outputs": [],
   "source": []
  },
  {
   "cell_type": "code",
   "execution_count": 49,
   "metadata": {},
   "outputs": [],
   "source": [
    "#########  Fuel Type #########"
   ]
  },
  {
   "cell_type": "code",
   "execution_count": 50,
   "metadata": {},
   "outputs": [],
   "source": [
    "fuel_type_en = LabelEncoder()\n",
    "dataset['fuel_type'] = fuel_type_en.fit_transform(dataset['fuel_type'])"
   ]
  },
  {
   "cell_type": "code",
   "execution_count": 51,
   "metadata": {},
   "outputs": [
    {
     "data": {
      "text/html": [
       "<div>\n",
       "<style scoped>\n",
       "    .dataframe tbody tr th:only-of-type {\n",
       "        vertical-align: middle;\n",
       "    }\n",
       "\n",
       "    .dataframe tbody tr th {\n",
       "        vertical-align: top;\n",
       "    }\n",
       "\n",
       "    .dataframe thead th {\n",
       "        text-align: right;\n",
       "    }\n",
       "</style>\n",
       "<table border=\"1\" class=\"dataframe\">\n",
       "  <thead>\n",
       "    <tr style=\"text-align: right;\">\n",
       "      <th></th>\n",
       "      <th>company_name</th>\n",
       "      <th>car_modal</th>\n",
       "      <th>car_prices_in_rupee</th>\n",
       "      <th>kms_driven</th>\n",
       "      <th>fuel_type</th>\n",
       "      <th>transmission</th>\n",
       "      <th>manufacture</th>\n",
       "      <th>engine</th>\n",
       "      <th>Seats</th>\n",
       "    </tr>\n",
       "  </thead>\n",
       "  <tbody>\n",
       "    <tr>\n",
       "      <th>0</th>\n",
       "      <td>Jeep</td>\n",
       "      <td>413</td>\n",
       "      <td>1003000.0</td>\n",
       "      <td>86226.0</td>\n",
       "      <td>1</td>\n",
       "      <td>Manual</td>\n",
       "      <td>2017</td>\n",
       "      <td>1956</td>\n",
       "      <td>5</td>\n",
       "    </tr>\n",
       "    <tr>\n",
       "      <th>1</th>\n",
       "      <td>Renault</td>\n",
       "      <td>496</td>\n",
       "      <td>1283000.0</td>\n",
       "      <td>13248.0</td>\n",
       "      <td>4</td>\n",
       "      <td>Automatic</td>\n",
       "      <td>2021</td>\n",
       "      <td>1330</td>\n",
       "      <td>5</td>\n",
       "    </tr>\n",
       "    <tr>\n",
       "      <th>2</th>\n",
       "      <td>Toyota</td>\n",
       "      <td>278</td>\n",
       "      <td>1640000.0</td>\n",
       "      <td>60343.0</td>\n",
       "      <td>4</td>\n",
       "      <td>Automatic</td>\n",
       "      <td>2016</td>\n",
       "      <td>2494</td>\n",
       "      <td>5</td>\n",
       "    </tr>\n",
       "    <tr>\n",
       "      <th>3</th>\n",
       "      <td>Honda</td>\n",
       "      <td>889</td>\n",
       "      <td>777000.0</td>\n",
       "      <td>26696.0</td>\n",
       "      <td>4</td>\n",
       "      <td>Automatic</td>\n",
       "      <td>2018</td>\n",
       "      <td>1199</td>\n",
       "      <td>5</td>\n",
       "    </tr>\n",
       "    <tr>\n",
       "      <th>4</th>\n",
       "      <td>Volkswagen</td>\n",
       "      <td>1064</td>\n",
       "      <td>515000.0</td>\n",
       "      <td>69414.0</td>\n",
       "      <td>4</td>\n",
       "      <td>Manual</td>\n",
       "      <td>2016</td>\n",
       "      <td>1199</td>\n",
       "      <td>5</td>\n",
       "    </tr>\n",
       "  </tbody>\n",
       "</table>\n",
       "</div>"
      ],
      "text/plain": [
       "  company_name  car_modal  car_prices_in_rupee  kms_driven  fuel_type  \\\n",
       "0         Jeep        413            1003000.0     86226.0          1   \n",
       "1      Renault        496            1283000.0     13248.0          4   \n",
       "2       Toyota        278            1640000.0     60343.0          4   \n",
       "3        Honda        889             777000.0     26696.0          4   \n",
       "4   Volkswagen       1064             515000.0     69414.0          4   \n",
       "\n",
       "  transmission  manufacture  engine  Seats  \n",
       "0       Manual         2017    1956      5  \n",
       "1    Automatic         2021    1330      5  \n",
       "2    Automatic         2016    2494      5  \n",
       "3    Automatic         2018    1199      5  \n",
       "4       Manual         2016    1199      5  "
      ]
     },
     "execution_count": 51,
     "metadata": {},
     "output_type": "execute_result"
    }
   ],
   "source": [
    "dataset.head()"
   ]
  },
  {
   "cell_type": "code",
   "execution_count": null,
   "metadata": {},
   "outputs": [],
   "source": []
  },
  {
   "cell_type": "code",
   "execution_count": 52,
   "metadata": {},
   "outputs": [],
   "source": [
    "######### transmission"
   ]
  },
  {
   "cell_type": "code",
   "execution_count": 53,
   "metadata": {},
   "outputs": [],
   "source": [
    "transmission_en = LabelEncoder()\n",
    "dataset['transmission'] = transmission_en.fit_transform(dataset['transmission'])"
   ]
  },
  {
   "cell_type": "code",
   "execution_count": 54,
   "metadata": {},
   "outputs": [
    {
     "data": {
      "text/html": [
       "<div>\n",
       "<style scoped>\n",
       "    .dataframe tbody tr th:only-of-type {\n",
       "        vertical-align: middle;\n",
       "    }\n",
       "\n",
       "    .dataframe tbody tr th {\n",
       "        vertical-align: top;\n",
       "    }\n",
       "\n",
       "    .dataframe thead th {\n",
       "        text-align: right;\n",
       "    }\n",
       "</style>\n",
       "<table border=\"1\" class=\"dataframe\">\n",
       "  <thead>\n",
       "    <tr style=\"text-align: right;\">\n",
       "      <th></th>\n",
       "      <th>company_name</th>\n",
       "      <th>car_modal</th>\n",
       "      <th>car_prices_in_rupee</th>\n",
       "      <th>kms_driven</th>\n",
       "      <th>fuel_type</th>\n",
       "      <th>transmission</th>\n",
       "      <th>manufacture</th>\n",
       "      <th>engine</th>\n",
       "      <th>Seats</th>\n",
       "    </tr>\n",
       "  </thead>\n",
       "  <tbody>\n",
       "    <tr>\n",
       "      <th>0</th>\n",
       "      <td>Jeep</td>\n",
       "      <td>413</td>\n",
       "      <td>1003000.0</td>\n",
       "      <td>86226.0</td>\n",
       "      <td>1</td>\n",
       "      <td>1</td>\n",
       "      <td>2017</td>\n",
       "      <td>1956</td>\n",
       "      <td>5</td>\n",
       "    </tr>\n",
       "    <tr>\n",
       "      <th>1</th>\n",
       "      <td>Renault</td>\n",
       "      <td>496</td>\n",
       "      <td>1283000.0</td>\n",
       "      <td>13248.0</td>\n",
       "      <td>4</td>\n",
       "      <td>0</td>\n",
       "      <td>2021</td>\n",
       "      <td>1330</td>\n",
       "      <td>5</td>\n",
       "    </tr>\n",
       "    <tr>\n",
       "      <th>2</th>\n",
       "      <td>Toyota</td>\n",
       "      <td>278</td>\n",
       "      <td>1640000.0</td>\n",
       "      <td>60343.0</td>\n",
       "      <td>4</td>\n",
       "      <td>0</td>\n",
       "      <td>2016</td>\n",
       "      <td>2494</td>\n",
       "      <td>5</td>\n",
       "    </tr>\n",
       "    <tr>\n",
       "      <th>3</th>\n",
       "      <td>Honda</td>\n",
       "      <td>889</td>\n",
       "      <td>777000.0</td>\n",
       "      <td>26696.0</td>\n",
       "      <td>4</td>\n",
       "      <td>0</td>\n",
       "      <td>2018</td>\n",
       "      <td>1199</td>\n",
       "      <td>5</td>\n",
       "    </tr>\n",
       "    <tr>\n",
       "      <th>4</th>\n",
       "      <td>Volkswagen</td>\n",
       "      <td>1064</td>\n",
       "      <td>515000.0</td>\n",
       "      <td>69414.0</td>\n",
       "      <td>4</td>\n",
       "      <td>1</td>\n",
       "      <td>2016</td>\n",
       "      <td>1199</td>\n",
       "      <td>5</td>\n",
       "    </tr>\n",
       "  </tbody>\n",
       "</table>\n",
       "</div>"
      ],
      "text/plain": [
       "  company_name  car_modal  car_prices_in_rupee  kms_driven  fuel_type  \\\n",
       "0         Jeep        413            1003000.0     86226.0          1   \n",
       "1      Renault        496            1283000.0     13248.0          4   \n",
       "2       Toyota        278            1640000.0     60343.0          4   \n",
       "3        Honda        889             777000.0     26696.0          4   \n",
       "4   Volkswagen       1064             515000.0     69414.0          4   \n",
       "\n",
       "   transmission  manufacture  engine  Seats  \n",
       "0             1         2017    1956      5  \n",
       "1             0         2021    1330      5  \n",
       "2             0         2016    2494      5  \n",
       "3             0         2018    1199      5  \n",
       "4             1         2016    1199      5  "
      ]
     },
     "execution_count": 54,
     "metadata": {},
     "output_type": "execute_result"
    }
   ],
   "source": [
    "dataset.head()"
   ]
  },
  {
   "cell_type": "code",
   "execution_count": null,
   "metadata": {},
   "outputs": [],
   "source": []
  },
  {
   "cell_type": "code",
   "execution_count": 55,
   "metadata": {},
   "outputs": [],
   "source": [
    "#########  Company Name  #########"
   ]
  },
  {
   "cell_type": "code",
   "execution_count": 56,
   "metadata": {},
   "outputs": [],
   "source": [
    "company_name_en = LabelEncoder()\n",
    "dataset['company_name'] = company_name_en.fit_transform(dataset['company_name'])"
   ]
  },
  {
   "cell_type": "code",
   "execution_count": 57,
   "metadata": {},
   "outputs": [
    {
     "data": {
      "text/html": [
       "<div>\n",
       "<style scoped>\n",
       "    .dataframe tbody tr th:only-of-type {\n",
       "        vertical-align: middle;\n",
       "    }\n",
       "\n",
       "    .dataframe tbody tr th {\n",
       "        vertical-align: top;\n",
       "    }\n",
       "\n",
       "    .dataframe thead th {\n",
       "        text-align: right;\n",
       "    }\n",
       "</style>\n",
       "<table border=\"1\" class=\"dataframe\">\n",
       "  <thead>\n",
       "    <tr style=\"text-align: right;\">\n",
       "      <th></th>\n",
       "      <th>company_name</th>\n",
       "      <th>car_modal</th>\n",
       "      <th>car_prices_in_rupee</th>\n",
       "      <th>kms_driven</th>\n",
       "      <th>fuel_type</th>\n",
       "      <th>transmission</th>\n",
       "      <th>manufacture</th>\n",
       "      <th>engine</th>\n",
       "      <th>Seats</th>\n",
       "    </tr>\n",
       "  </thead>\n",
       "  <tbody>\n",
       "    <tr>\n",
       "      <th>0</th>\n",
       "      <td>12</td>\n",
       "      <td>413</td>\n",
       "      <td>1003000.0</td>\n",
       "      <td>86226.0</td>\n",
       "      <td>1</td>\n",
       "      <td>1</td>\n",
       "      <td>2017</td>\n",
       "      <td>1956</td>\n",
       "      <td>5</td>\n",
       "    </tr>\n",
       "    <tr>\n",
       "      <th>1</th>\n",
       "      <td>26</td>\n",
       "      <td>496</td>\n",
       "      <td>1283000.0</td>\n",
       "      <td>13248.0</td>\n",
       "      <td>4</td>\n",
       "      <td>0</td>\n",
       "      <td>2021</td>\n",
       "      <td>1330</td>\n",
       "      <td>5</td>\n",
       "    </tr>\n",
       "    <tr>\n",
       "      <th>2</th>\n",
       "      <td>29</td>\n",
       "      <td>278</td>\n",
       "      <td>1640000.0</td>\n",
       "      <td>60343.0</td>\n",
       "      <td>4</td>\n",
       "      <td>0</td>\n",
       "      <td>2016</td>\n",
       "      <td>2494</td>\n",
       "      <td>5</td>\n",
       "    </tr>\n",
       "    <tr>\n",
       "      <th>3</th>\n",
       "      <td>8</td>\n",
       "      <td>889</td>\n",
       "      <td>777000.0</td>\n",
       "      <td>26696.0</td>\n",
       "      <td>4</td>\n",
       "      <td>0</td>\n",
       "      <td>2018</td>\n",
       "      <td>1199</td>\n",
       "      <td>5</td>\n",
       "    </tr>\n",
       "    <tr>\n",
       "      <th>4</th>\n",
       "      <td>30</td>\n",
       "      <td>1064</td>\n",
       "      <td>515000.0</td>\n",
       "      <td>69414.0</td>\n",
       "      <td>4</td>\n",
       "      <td>1</td>\n",
       "      <td>2016</td>\n",
       "      <td>1199</td>\n",
       "      <td>5</td>\n",
       "    </tr>\n",
       "  </tbody>\n",
       "</table>\n",
       "</div>"
      ],
      "text/plain": [
       "   company_name  car_modal  car_prices_in_rupee  kms_driven  fuel_type  \\\n",
       "0            12        413            1003000.0     86226.0          1   \n",
       "1            26        496            1283000.0     13248.0          4   \n",
       "2            29        278            1640000.0     60343.0          4   \n",
       "3             8        889             777000.0     26696.0          4   \n",
       "4            30       1064             515000.0     69414.0          4   \n",
       "\n",
       "   transmission  manufacture  engine  Seats  \n",
       "0             1         2017    1956      5  \n",
       "1             0         2021    1330      5  \n",
       "2             0         2016    2494      5  \n",
       "3             0         2018    1199      5  \n",
       "4             1         2016    1199      5  "
      ]
     },
     "execution_count": 57,
     "metadata": {},
     "output_type": "execute_result"
    }
   ],
   "source": [
    "dataset.head()"
   ]
  },
  {
   "cell_type": "code",
   "execution_count": null,
   "metadata": {},
   "outputs": [],
   "source": []
  },
  {
   "cell_type": "code",
   "execution_count": 58,
   "metadata": {},
   "outputs": [],
   "source": [
    "########  Cheacking Outlier and Removing it  #########"
   ]
  },
  {
   "cell_type": "code",
   "execution_count": 59,
   "metadata": {},
   "outputs": [
    {
     "data": {
      "image/png": "[encoded data removed]",
      "text/plain": [
       "<Figure size 500x300 with 1 Axes>"
      ]
     },
     "metadata": {},
     "output_type": "display_data"
    }
   ],
   "source": [
    "plt.figure(figsize=(5,3))\n",
    "sns.boxplot(x=\"kms_driven\",data=dataset)\n",
    "plt.show()"
   ]
  },
  {
   "cell_type": "code",
   "execution_count": 60,
   "metadata": {},
   "outputs": [],
   "source": [
    "##  i think we do not need to remove outlier because ther will be a lose of Data  ##"
   ]
  },
  {
   "cell_type": "code",
   "execution_count": 61,
   "metadata": {},
   "outputs": [],
   "source": [
    "# If you want to use unsupervised Machine learning so, we have to use standard scaler I am Showing how to do it #"
   ]
  },
  {
   "cell_type": "code",
   "execution_count": 62,
   "metadata": {},
   "outputs": [],
   "source": [
    "ss = StandardScaler()\n",
    "\n",
    "new_data = pd.DataFrame(ss.fit_transform(dataset), columns=dataset.columns)"
   ]
  },
  {
   "cell_type": "code",
   "execution_count": 63,
   "metadata": {},
   "outputs": [
    {
     "data": {
      "text/html": [
       "<div>\n",
       "<style scoped>\n",
       "    .dataframe tbody tr th:only-of-type {\n",
       "        vertical-align: middle;\n",
       "    }\n",
       "\n",
       "    .dataframe tbody tr th {\n",
       "        vertical-align: top;\n",
       "    }\n",
       "\n",
       "    .dataframe thead th {\n",
       "        text-align: right;\n",
       "    }\n",
       "</style>\n",
       "<table border=\"1\" class=\"dataframe\">\n",
       "  <thead>\n",
       "    <tr style=\"text-align: right;\">\n",
       "      <th></th>\n",
       "      <th>company_name</th>\n",
       "      <th>car_modal</th>\n",
       "      <th>car_prices_in_rupee</th>\n",
       "      <th>kms_driven</th>\n",
       "      <th>fuel_type</th>\n",
       "      <th>transmission</th>\n",
       "      <th>manufacture</th>\n",
       "      <th>engine</th>\n",
       "      <th>Seats</th>\n",
       "    </tr>\n",
       "  </thead>\n",
       "  <tbody>\n",
       "    <tr>\n",
       "      <th>0</th>\n",
       "      <td>-0.424690</td>\n",
       "      <td>-0.915562</td>\n",
       "      <td>-0.092972</td>\n",
       "      <td>0.556649</td>\n",
       "      <td>-1.048527</td>\n",
       "      <td>0.634728</td>\n",
       "      <td>0.363844</td>\n",
       "      <td>0.725571</td>\n",
       "      <td>-0.347633</td>\n",
       "    </tr>\n",
       "    <tr>\n",
       "      <th>1</th>\n",
       "      <td>1.295579</td>\n",
       "      <td>-0.768494</td>\n",
       "      <td>0.048215</td>\n",
       "      <td>-1.184547</td>\n",
       "      <td>0.934436</td>\n",
       "      <td>-1.575478</td>\n",
       "      <td>1.440213</td>\n",
       "      <td>-0.351522</td>\n",
       "      <td>-0.347633</td>\n",
       "    </tr>\n",
       "    <tr>\n",
       "      <th>2</th>\n",
       "      <td>1.664208</td>\n",
       "      <td>-1.154770</td>\n",
       "      <td>0.228228</td>\n",
       "      <td>-0.060899</td>\n",
       "      <td>0.934436</td>\n",
       "      <td>-1.575478</td>\n",
       "      <td>0.094752</td>\n",
       "      <td>1.651251</td>\n",
       "      <td>-0.347633</td>\n",
       "    </tr>\n",
       "    <tr>\n",
       "      <th>3</th>\n",
       "      <td>-0.916196</td>\n",
       "      <td>-0.072134</td>\n",
       "      <td>-0.206929</td>\n",
       "      <td>-0.863689</td>\n",
       "      <td>0.934436</td>\n",
       "      <td>-1.575478</td>\n",
       "      <td>0.632936</td>\n",
       "      <td>-0.576920</td>\n",
       "      <td>-0.347633</td>\n",
       "    </tr>\n",
       "    <tr>\n",
       "      <th>4</th>\n",
       "      <td>1.787084</td>\n",
       "      <td>0.237950</td>\n",
       "      <td>-0.339040</td>\n",
       "      <td>0.155528</td>\n",
       "      <td>0.934436</td>\n",
       "      <td>0.634728</td>\n",
       "      <td>0.094752</td>\n",
       "      <td>-0.576920</td>\n",
       "      <td>-0.347633</td>\n",
       "    </tr>\n",
       "  </tbody>\n",
       "</table>\n",
       "</div>"
      ],
      "text/plain": [
       "   company_name  car_modal  car_prices_in_rupee  kms_driven  fuel_type  \\\n",
       "0     -0.424690  -0.915562            -0.092972    0.556649  -1.048527   \n",
       "1      1.295579  -0.768494             0.048215   -1.184547   0.934436   \n",
       "2      1.664208  -1.154770             0.228228   -0.060899   0.934436   \n",
       "3     -0.916196  -0.072134            -0.206929   -0.863689   0.934436   \n",
       "4      1.787084   0.237950            -0.339040    0.155528   0.934436   \n",
       "\n",
       "   transmission  manufacture    engine     Seats  \n",
       "0      0.634728     0.363844  0.725571 -0.347633  \n",
       "1     -1.575478     1.440213 -0.351522 -0.347633  \n",
       "2     -1.575478     0.094752  1.651251 -0.347633  \n",
       "3     -1.575478     0.632936 -0.576920 -0.347633  \n",
       "4      0.634728     0.094752 -0.576920 -0.347633  "
      ]
     },
     "execution_count": 63,
     "metadata": {},
     "output_type": "execute_result"
    }
   ],
   "source": [
    "new_data.head()"
   ]
  },
  {
   "cell_type": "code",
   "execution_count": 64,
   "metadata": {},
   "outputs": [],
   "source": [
    "###  Data CLeaning for Machine Learning Complected  ###\n",
    "##  Now just Save your File ##"
   ]
  },
  {
   "cell_type": "code",
   "execution_count": 66,
   "metadata": {},
   "outputs": [],
   "source": [
    "# new_data.to_csv('car_price_cleaned_data.csv', index=False)\n",
    "\n",
    "# Run the above Code your File will be Saved #"
   ]
  }
 ],
 "metadata": {
  "kernelspec": {
   "display_name": "Python 3",
   "language": "python",
   "name": "python3"
  },
  "language_info": {
   "codemirror_mode": {
    "name": "ipython",
    "version": 3
   },
   "file_extension": ".py",
   "mimetype": "text/x-python",
   "name": "python",
   "nbconvert_exporter": "python",
   "pygments_lexer": "ipython3",
   "version": "3.12.0"
  }
 },
 "nbformat": 4,
 "nbformat_minor": 2
}
